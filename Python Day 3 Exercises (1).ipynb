{
 "cells": [
  {
   "cell_type": "markdown",
   "metadata": {},
   "source": [
    "Create a dictionary named pairs with key value pairs of hello and fire, 3 and seven, strong and 45"
   ]
  },
  {
   "cell_type": "code",
   "execution_count": 35,
   "metadata": {},
   "outputs": [],
   "source": [
    "pairs = {\n",
    "  \"Hello\": \"Fire\",\n",
    "  \"3\": \"seven\",\n",
    "  \"Strong\": 45\n",
    "}\n"
   ]
  },
  {
   "cell_type": "markdown",
   "metadata": {},
   "source": [
    "Print the dictionary pairs out"
   ]
  },
  {
   "cell_type": "code",
   "execution_count": 36,
   "metadata": {},
   "outputs": [
    {
     "name": "stdout",
     "output_type": "stream",
     "text": [
      "{'Hello': 'Fire', '3': 'seven', 'Strong': 45}\n"
     ]
    }
   ],
   "source": [
    "print(pairs)\n",
    "#to find the value of key \"3\"\n",
    "#x = pairs.get(\"3\")\n",
    "#print(x)"
   ]
  },
  {
   "cell_type": "markdown",
   "metadata": {},
   "source": [
    "Add a new pair into the dictionary called pairs. Add welcome and 56"
   ]
  },
  {
   "cell_type": "code",
   "execution_count": 37,
   "metadata": {},
   "outputs": [
    {
     "name": "stdout",
     "output_type": "stream",
     "text": [
      "{'Hello': 'Fire', '3': 'seven', 'Strong': 45, 'welcome': 56}\n"
     ]
    }
   ],
   "source": [
    "if 'welcome' not in pairs.keys():\n",
    "    pairs['welcome'] = 56\n",
    "print(pairs)"
   ]
  },
  {
   "cell_type": "markdown",
   "metadata": {},
   "source": [
    "Delete one item from the Dictionary and print it out"
   ]
  },
  {
   "cell_type": "code",
   "execution_count": 38,
   "metadata": {},
   "outputs": [
    {
     "name": "stdout",
     "output_type": "stream",
     "text": [
      "{'Hello': 'Fire', '3': 'seven', 'Strong': 45}\n"
     ]
    }
   ],
   "source": [
    "#delete a single item\n",
    "\n",
    "del pairs[\"welcome\"]\n",
    "print(pairs)\n",
    "#pairs.pop(\"strong\")\n",
    "#print(pairs)"
   ]
  },
  {
   "cell_type": "markdown",
   "metadata": {},
   "source": [
    "Pull out one item from the dicitonary"
   ]
  },
  {
   "cell_type": "code",
   "execution_count": 39,
   "metadata": {},
   "outputs": [
    {
     "name": "stdout",
     "output_type": "stream",
     "text": [
      "Fire\n"
     ]
    }
   ],
   "source": [
    "x = pairs[\"Hello\"]\n",
    "print(x)"
   ]
  },
  {
   "cell_type": "markdown",
   "metadata": {},
   "source": [
    "Try to find out if the key called hello exist. Print out the key is found if it is there otherwise print out the key is not there."
   ]
  },
  {
   "cell_type": "code",
   "execution_count": 40,
   "metadata": {},
   "outputs": [
    {
     "name": "stdout",
     "output_type": "stream",
     "text": [
      "the key is found\n"
     ]
    }
   ],
   "source": [
    "#key to look up = \"Hello\"\n",
    "if \"Hello\" in pairs:\n",
    "    print(\"the key is found\")\n",
    "else:\n",
    "    print(\"the key is not there\")"
   ]
  },
  {
   "cell_type": "markdown",
   "metadata": {},
   "source": [
    "Please loop through the dictionary and print out each value. "
   ]
  },
  {
   "cell_type": "code",
   "execution_count": 41,
   "metadata": {},
   "outputs": [
    {
     "name": "stdout",
     "output_type": "stream",
     "text": [
      "Print the values\n",
      "Fire\n",
      "seven\n",
      "45\n"
     ]
    }
   ],
   "source": [
    "   \n",
    "#if you want to use the values\n",
    "print(\"Print the values\")\n",
    "for value in pairs.values():\n",
    "    print(value)\n"
   ]
  },
  {
   "cell_type": "markdown",
   "metadata": {},
   "source": [
    "Please loop through the dictionary and print out each key."
   ]
  },
  {
   "cell_type": "code",
   "execution_count": 42,
   "metadata": {},
   "outputs": [
    {
     "name": "stdout",
     "output_type": "stream",
     "text": [
      "Print the keys\n",
      "Hello\n",
      "3\n",
      "Strong\n"
     ]
    }
   ],
   "source": [
    "#if you want the keys\n",
    "print(\"Print the keys\")\n",
    "for key in pairs.keys():\n",
    "    print(key)"
   ]
  },
  {
   "cell_type": "markdown",
   "metadata": {},
   "source": [
    "Please loop through the dictionary and print out each key and value pair. "
   ]
  },
  {
   "cell_type": "code",
   "execution_count": 43,
   "metadata": {},
   "outputs": [
    {
     "name": "stdout",
     "output_type": "stream",
     "text": [
      "By both keys and values\n",
      "Hello Fire\n",
      "3 seven\n",
      "Strong 45\n"
     ]
    }
   ],
   "source": [
    "#if you want to see the keys and values\n",
    "print(\"By both keys and values\")\n",
    "for x, y in pairs.items():\n",
    "    print(x, y)"
   ]
  },
  {
   "cell_type": "markdown",
   "metadata": {},
   "source": [
    "Make a copy of this dictionary and store it as pairs2"
   ]
  },
  {
   "cell_type": "code",
   "execution_count": 44,
   "metadata": {},
   "outputs": [
    {
     "name": "stdout",
     "output_type": "stream",
     "text": [
      "{'Hello': 'Fire', '3': 'seven', 'Strong': 45}\n"
     ]
    }
   ],
   "source": [
    "pairs2 = pairs.copy()\n",
    "print(pairs2)"
   ]
  },
  {
   "cell_type": "markdown",
   "metadata": {},
   "source": [
    "Please make a nested dictionary called Parent with 2 children"
   ]
  },
  {
   "cell_type": "code",
   "execution_count": 1,
   "metadata": {},
   "outputs": [
    {
     "name": "stdout",
     "output_type": "stream",
     "text": [
      "{'child1': {'name': 'Paul', 'dob': 'Aug2004'}, 'child2': {'name': 'Teddy', 'dob': 'Sept2007'}}\n"
     ]
    }
   ],
   "source": [
    "child1 = {\n",
    "  \"name\" : \"Paul\",\n",
    "  \"dob\" : \"Aug2004\"\n",
    "}\n",
    "child2 = {\n",
    "  \"name\" : \"Teddy\",\n",
    "  \"dob\" : \"Sept2007\"\n",
    "}\n",
    "\n",
    "\n",
    "#now adding all the dictionaries to one\n",
    "myparent = {\n",
    "  \"child1\" : child1,\n",
    "  \"child2\" : child2\n",
    "}\n",
    "print(myparent)"
   ]
  },
  {
   "cell_type": "code",
   "execution_count": null,
   "metadata": {},
   "outputs": [],
   "source": []
  }
 ],
 "metadata": {
  "kernelspec": {
   "display_name": "Python 3",
   "language": "python",
   "name": "python3"
  },
  "language_info": {
   "codemirror_mode": {
    "name": "ipython",
    "version": 3
   },
   "file_extension": ".py",
   "mimetype": "text/x-python",
   "name": "python",
   "nbconvert_exporter": "python",
   "pygments_lexer": "ipython3",
   "version": "3.7.6"
  }
 },
 "nbformat": 4,
 "nbformat_minor": 4
}
